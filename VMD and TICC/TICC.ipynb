{
 "cells": [
  {
   "cell_type": "code",
   "execution_count": 1,
   "metadata": {
    "collapsed": true
   },
   "outputs": [],
   "source": [
    "import joblib\n",
    "from ticc.TICC_solver import TICC\n",
    "import numpy as np\n",
    "import matplotlib.pyplot as plt\n",
    "import matplotlib\n",
    "import pandas as pd\n",
    "from sklearn.preprocessing import MinMaxScaler"
   ]
  },
  {
   "cell_type": "code",
   "execution_count": 2,
   "metadata": {
    "pycharm": {
     "name": "#%%\n"
    }
   },
   "outputs": [],
   "source": [
    "columnall=['甲硫醇浓度', '1,3-丁二烯浓度', '丁烯浓度', '丙酮、丁烷浓度', '正丙醇浓度', '甲硫醚、乙硫醇浓度', '氯乙烷浓度', '异戊二烯浓度', '戊烯浓度', '戊烷、异戊烷浓度', '二甲基甲酰胺浓度', '甲酸乙酯浓度', '二硫化碳、丙硫醇浓度', '苯浓度', '环己烯浓度', '己烯、甲基环戊烷浓度', '正己烷、二甲基丁烷浓度', '乙硫醚、丁硫醇浓度', '甲苯浓度', '苯胺浓度', '二甲基二硫醚浓度', '1,1-二氯乙烯浓度', '甲基环己烷浓度', '正庚烷浓度', '三乙胺浓度', '乙酸正丙酯浓度', '二亚乙基三胺浓度', '苯乙烯浓度', '二甲苯、乙苯浓度', '1,3-二氯丙烯浓度', '正辛烷浓度', '乙酸正丁酯浓度', '己硫醇浓度', '二甲苯酚浓度', '三氯乙烯浓度', '二乙基苯浓度', '苯甲酸甲酯浓度', '磷酸三甲酯浓度', '正癸醇浓度', '二氯苯浓度', '二乙基苯胺浓度', '十一烷浓度', '四氯乙烯浓度', '正十二烷浓度', '二溴甲烷浓度', '1,2,4-三氯苯浓度', '正十三烷浓度', '1,2-二溴乙烷浓度', '0.25um', '0.28um', '0.30um', '0.35um', '0.40um', '0.45um', '0.50um', '0.58um', '0.65um', '0.70um', '0.80um', '1.00um', '1.30um', '1.60um', '2.00um', '2.50um', '3.00um', '3.50um', '4.00um', '5.00um', '6.50um', '7.50um', '8.50um', '10.00um', '12.50um', '15.00um', '17.50um', '20.00um', '25.00um', '30.00um', '32.00um', 'PM10', 'PM2.5', 'PM1', 'SO2', 'NOx', 'NO', 'CO', 'O3', 'NO2', '负氧离子', '地面层净辐射', '地面层温度', '地面层湿度']\n",
    "columnall2=['甲硫醇浓度', '1,3-丁二烯浓度', '丁烯浓度', '丙酮、丁烷浓度', '正丙醇浓度', '甲硫醚、乙硫醇浓度', '氯乙烷浓度', '异戊二烯浓度', '戊烯浓度', '戊烷、异戊烷浓度', '二甲基甲酰胺浓度', '甲酸乙酯浓度', '二硫化碳、丙硫醇浓度', '苯浓度', '环己烯浓度', '己烯、甲基环戊烷浓度', '正己烷、二甲基丁烷浓度', '乙硫醚、丁硫醇浓度', '甲苯浓度', '苯胺浓度', '二甲基二硫醚浓度', '1,1-二氯乙烯浓度', '甲基环己烷浓度', '正庚烷浓度', '三乙胺浓度', '乙酸正丙酯浓度', '二亚乙基三胺浓度', '苯乙烯浓度', '二甲苯、乙苯浓度', '1,3-二氯丙烯浓度', '正辛烷浓度', '乙酸正丁酯浓度', '己硫醇浓度', '二甲苯酚浓度', '三氯乙烯浓度', '二乙基苯浓度', '苯甲酸甲酯浓度', '磷酸三甲酯浓度', '正癸醇浓度', '二氯苯浓度', '二乙基苯胺浓度', '十一烷浓度', '四氯乙烯浓度', '正十二烷浓度', '二溴甲烷浓度', '1,2,4-三氯苯浓度', '正十三烷浓度', '1,2-二溴乙烷浓度', '0.25um', '0.28um', '0.30um', '0.35um', '0.40um', '0.45um', '0.50um', '0.58um', '0.65um', '0.70um', '0.80um', '1.00um', '1.30um', '1.60um', '2.00um', '2.50um', '3.00um', '3.50um', '4.00um', '5.00um', '6.50um', '7.50um', '8.50um', '10.00um', '12.50um', '15.00um', '17.50um', '20.00um', '25.00um', '30.00um', '32.00um', 'PM10', 'PM2.5', 'PM1', 'SO2', 'NOx', 'NO', 'CO', 'O3', '负氧离子', '地面层净辐射', '地面层温度', '地面层湿度']\n",
    "column=[\"O3\",\"地面层净辐射\",\"地面层温度\",\"甲苯浓度\",\"PM2.5\", \"PM1\",\"地面层湿度\",\"NOx\",\"异戊二烯浓度\",\"1,3-丁二烯浓度\",\"丁烯浓度\",\"戊烯浓度\"]\n",
    "columnen=[\"O3\", \"GNR\", \"GT\", \"Toluene\", \"PM2.5\", \"PM1\", \"GH\", \"NOx\", \"Isoprene\", \"1,3-butadiene\", \"Butene\", \"Pentene\"]\n",
    "BVOCs=[\n",
    "    '1,3-丁二烯浓度',\n",
    "    '丁烯浓度',\n",
    "    '异戊二烯浓度',\n",
    "    '戊烯浓度',\n",
    "    '苯浓度',\n",
    "    '环己烯浓度',\n",
    "    '己烯、甲基环戊烷浓度',\n",
    "    '甲苯浓度',\n",
    "    '苯乙烯浓度',\n",
    "    '二甲苯、乙苯浓度'\n",
    "]"
   ]
  },
  {
   "cell_type": "code",
   "execution_count": 3,
   "outputs": [],
   "source": [
    "Month = [ \"Aug\", \"Sept\", \"Oct\", \"Nov\", \"Dec\",\"Jan\", \"Feb\", \"Mar\", \"Apr\", \"May\", \"Jun\", \"Jul\"]"
   ],
   "metadata": {
    "collapsed": false,
    "pycharm": {
     "name": "#%%\n"
    }
   }
  },
  {
   "cell_type": "code",
   "execution_count": 4,
   "metadata": {
    "pycharm": {
     "name": "#%%\n"
    }
   },
   "outputs": [
    {
     "name": "stderr",
     "output_type": "stream",
     "text": [
      "C:\\Users\\aa271\\AppData\\Local\\Temp\\ipykernel_18504\\990311047.py:4: FutureWarning: The frame.append method is deprecated and will be removed from pandas in a future version. Use pandas.concat instead.\n",
      "  dataall=dataall.append(data[i])\n",
      "C:\\Users\\aa271\\AppData\\Local\\Temp\\ipykernel_18504\\990311047.py:4: FutureWarning: The frame.append method is deprecated and will be removed from pandas in a future version. Use pandas.concat instead.\n",
      "  dataall=dataall.append(data[i])\n",
      "C:\\Users\\aa271\\AppData\\Local\\Temp\\ipykernel_18504\\990311047.py:4: FutureWarning: The frame.append method is deprecated and will be removed from pandas in a future version. Use pandas.concat instead.\n",
      "  dataall=dataall.append(data[i])\n",
      "C:\\Users\\aa271\\AppData\\Local\\Temp\\ipykernel_18504\\990311047.py:4: FutureWarning: The frame.append method is deprecated and will be removed from pandas in a future version. Use pandas.concat instead.\n",
      "  dataall=dataall.append(data[i])\n"
     ]
    }
   ],
   "source": [
    "data=joblib.load('datanpjh.pkl')\n",
    "dataall=data[0].copy()\n",
    "for i in range(1,5):\n",
    "    dataall=dataall.append(data[i])\n",
    "dataall=dataall.reset_index().drop(columns=\"Time\")"
   ]
  },
  {
   "cell_type": "code",
   "execution_count": 5,
   "metadata": {
    "pycharm": {
     "name": "#%%\n"
    }
   },
   "outputs": [],
   "source": [
    "datatemp=joblib.load('dataVMDjh.pkl')\n",
    "data=datatemp[columnall]"
   ]
  },
  {
   "cell_type": "code",
   "execution_count": 6,
   "metadata": {
    "pycharm": {
     "name": "#%%\n"
    }
   },
   "outputs": [],
   "source": [
    "datadic=joblib.load(\"datanpjh.pkl\")\n",
    "datamonth=[]\n",
    "A=0\n",
    "B=0\n",
    "for i in range(12):\n",
    "    A=A+datadic[i].shape[0]\n",
    "    datamonth.append(datatemp.loc[B:(A-1)].reset_index(drop=True))\n",
    "    B=B+datadic[i].shape[0]"
   ]
  },
  {
   "cell_type": "code",
   "execution_count": 7,
   "outputs": [],
   "source": [
    "# Normalize each dataframe in datamonth\n",
    "scaler = MinMaxScaler()\n",
    "for i in range(len(datamonth)):\n",
    "    datamonth[i][datamonth[i].columns] = scaler.fit_transform(datamonth[i][datamonth[i].columns])"
   ],
   "metadata": {
    "collapsed": false,
    "pycharm": {
     "name": "#%%\n"
    }
   }
  },
  {
   "cell_type": "code",
   "execution_count": 8,
   "metadata": {
    "pycharm": {
     "name": "#%%\n"
    }
   },
   "outputs": [],
   "source": [
    "def runticc(savename,clustersavename,data,clusterN):\n",
    "    np.savetxt(savename,data,fmt='%.3f', delimiter=',')\n",
    "    fname = savename\n",
    "    ticc= TICC(window_size=1, number_of_clusters=clusterN, lambda_parameter=11e-2, beta=600, maxIters=100, threshold=2e-5,\n",
    "    write_out_file=False, prefix_string=\"output_folder/\", num_proc=1,compute_BIC=True)\n",
    "    (cluster_assignment, cluster_MRFs,TICCbic) = ticc.fit(input_file=fname)\n",
    "    np.savetxt(clustersavename, cluster_assignment, fmt='%d', delimiter=',')\n",
    "    return ticc,TICCbic"
   ]
  },
  {
   "cell_type": "code",
   "execution_count": null,
   "metadata": {
    "pycharm": {
     "name": "#%%\n",
     "is_executing": true
    }
   },
   "outputs": [],
   "source": [
    "months = [\"Aug\", \"Sept\", \"Oct\", \"Nov\", \"Dec\", \"Jan\", \"Feb\", \"Mar\", \"Apr\", \"May\", \"Jun\", \"Jul\"]\n",
    "\n",
    "bic_data = {}\n",
    "ticc_data = {}\n",
    "\n",
    "for no,month in enumerate(months):\n",
    "    bic_temp = []\n",
    "    ticc_temp = []\n",
    "    for j, i in enumerate(range(2, 8)):\n",
    "        try:\n",
    "            temp = datamonth[no].copy()\n",
    "            save_name = f\"cluster{i}TICC_{month}jh.txt\"\n",
    "            cluster_save_name = f\"result_cluster{i}TICC_{month}jh.txt\"\n",
    "            (ticc, TICCbic) = runticc(save_name, cluster_save_name, temp, i)\n",
    "            cluster = pd.read_table(cluster_save_name, sep=',', header=None)\n",
    "            temp[\"cluster\"] = cluster.values\n",
    "            bic_temp.append(TICCbic)\n",
    "            ticc_temp.append(ticc)\n",
    "        except Exception as e:\n",
    "            bic_temp.append([])\n",
    "            ticc_temp.append([])\n",
    "            print(month+\"hsa not cluster\"+str(i))\n",
    "\n",
    "    bic_data[month] = bic_temp\n",
    "    ticc_data[month] = ticc_temp\n",
    "\n",
    "    joblib.dump(bic_temp, f'bic{month}jh.pkl')\n",
    "    joblib.dump(ticc_temp, f'ticc{month}jh.pkl')"
   ]
  },
  {
   "cell_type": "code",
   "execution_count": null,
   "outputs": [],
   "source": [],
   "metadata": {
    "collapsed": false,
    "pycharm": {
     "name": "#%%\n"
    }
   }
  },
  {
   "cell_type": "code",
   "execution_count": null,
   "outputs": [],
   "source": [],
   "metadata": {
    "collapsed": false,
    "pycharm": {
     "name": "#%%\n"
    }
   }
  },
  {
   "cell_type": "code",
   "execution_count": null,
   "outputs": [],
   "source": [],
   "metadata": {
    "collapsed": false,
    "pycharm": {
     "name": "#%%\n"
    }
   }
  },
  {
   "cell_type": "code",
   "execution_count": null,
   "outputs": [],
   "source": [],
   "metadata": {
    "collapsed": false,
    "pycharm": {
     "name": "#%%\n"
    }
   }
  },
  {
   "cell_type": "code",
   "execution_count": null,
   "outputs": [],
   "source": [],
   "metadata": {
    "collapsed": false,
    "pycharm": {
     "name": "#%%\n"
    }
   }
  },
  {
   "cell_type": "code",
   "execution_count": null,
   "outputs": [],
   "source": [
    "data=joblib.load('datanpcm.pkl')\n",
    "dataall=data[0].copy()\n",
    "for i in range(1,5):\n",
    "    dataall=dataall.append(data[i])\n",
    "dataall=dataall.reset_index().drop(columns=\"Time\")"
   ],
   "metadata": {
    "collapsed": false,
    "pycharm": {
     "name": "#%%\n"
    }
   }
  },
  {
   "cell_type": "code",
   "execution_count": null,
   "outputs": [],
   "source": [
    "datatemp = joblib.load('dataVMDcm.pkl')\n",
    "data = datatemp[columnall2]\n",
    "datadic = joblib.load(\"datanpcm.pkl\")\n",
    "datamonth = []\n",
    "A = 0\n",
    "B = 0\n",
    "for i in range(12):\n",
    "    A = A + datadic[i].shape[0]\n",
    "    datamonth.append(datatemp.loc[B:(A - 1)].reset_index(drop=True))\n",
    "    B = B + datadic[i].shape[0]"
   ],
   "metadata": {
    "collapsed": false,
    "pycharm": {
     "name": "#%%\n"
    }
   }
  },
  {
   "cell_type": "code",
   "execution_count": null,
   "outputs": [],
   "source": [
    "# Normalize each dataframe in datamonth\n",
    "scaler = MinMaxScaler()\n",
    "for i in range(len(datamonth)):\n",
    "    datamonth[i][datamonth[i].columns] = scaler.fit_transform(datamonth[i][datamonth[i].columns])"
   ],
   "metadata": {
    "collapsed": false,
    "pycharm": {
     "name": "#%%\n"
    }
   }
  },
  {
   "cell_type": "code",
   "execution_count": null,
   "outputs": [],
   "source": [
    "months = [\"Aug\", \"Sept\", \"Oct\", \"Nov\", \"Dec\", \"Jan\", \"Feb\", \"Mar\", \"Apr\", \"May\", \"Jun\", \"Jul\"]\n",
    "\n",
    "bic_data = {}\n",
    "ticc_data = {}\n",
    "\n",
    "for no,month in enumerate(months):\n",
    "    bic_temp = []\n",
    "    ticc_temp = []\n",
    "    for j, i in enumerate(range(2, 8)):\n",
    "        temp = datamonth[no].copy()\n",
    "        save_name = f\"cluster{i}TICC_{month}cm.txt\"\n",
    "        cluster_save_name = f\"result_cluster{i}TICC_{month}cm.txt\"\n",
    "        (ticc, TICCbic) = runticc(save_name, cluster_save_name, temp, i)\n",
    "        cluster = pd.read_table(cluster_save_name, sep=',', header=None)\n",
    "        temp[\"cluster\"] = cluster.values\n",
    "        bic_temp.append(TICCbic)\n",
    "        ticc_temp.append(ticc)\n",
    "\n",
    "    bic_data[month] = bic_temp\n",
    "    ticc_data[month] = ticc_temp\n",
    "\n",
    "    joblib.dump(bic_temp, f'bic{month}cm.pkl')\n",
    "    joblib.dump(ticc_temp, f'ticc{month}cm.pkl')"
   ],
   "metadata": {
    "collapsed": false,
    "pycharm": {
     "name": "#%%\n"
    }
   }
  }
 ],
 "metadata": {
  "kernelspec": {
   "display_name": "Python 3 (ipykernel)",
   "language": "python",
   "name": "python3"
  },
  "language_info": {
   "codemirror_mode": {
    "name": "ipython",
    "version": 2
   },
   "file_extension": ".py",
   "mimetype": "text/x-python",
   "name": "python",
   "nbconvert_exporter": "python",
   "pygments_lexer": "ipython2",
   "version": "2.7.6"
  }
 },
 "nbformat": 4,
 "nbformat_minor": 1
}
